{
 "cells": [
  {
   "cell_type": "code",
   "execution_count": 1,
   "id": "a5f7ebe2",
   "metadata": {},
   "outputs": [
    {
     "name": "stdout",
     "output_type": "stream",
     "text": [
      "10\n",
      "correct\n"
     ]
    }
   ],
   "source": [
    "value=10\n",
    "value=int(input())\n",
    "if (value==10):\n",
    "    print(\"correct\")"
   ]
  },
  {
   "cell_type": "code",
   "execution_count": 4,
   "id": "797025d7",
   "metadata": {},
   "outputs": [
    {
     "name": "stdout",
     "output_type": "stream",
     "text": [
      "ENTER THE PASSWOARD:HOPE@123\n",
      "your passwoard is correct\n"
     ]
    }
   ],
   "source": [
    "num1=(input(\"ENTER THE PASSWOARD:\"))\n",
    "if(num1==\"HOPE@123\"):\n",
    "    print(\"your passwoard is correct\")\n",
    "    \n",
    "    "
   ]
  },
  {
   "cell_type": "code",
   "execution_count": null,
   "id": "9f7cfa79",
   "metadata": {},
   "outputs": [],
   "source": []
  }
 ],
 "metadata": {
  "kernelspec": {
   "display_name": "Python 3 (ipykernel)",
   "language": "python",
   "name": "python3"
  },
  "language_info": {
   "codemirror_mode": {
    "name": "ipython",
    "version": 3
   },
   "file_extension": ".py",
   "mimetype": "text/x-python",
   "name": "python",
   "nbconvert_exporter": "python",
   "pygments_lexer": "ipython3",
   "version": "3.11.5"
  }
 },
 "nbformat": 4,
 "nbformat_minor": 5
}
